{
 "cells": [
  {
   "cell_type": "markdown",
   "metadata": {},
   "source": [
    "## Homework 1\n",
    "\n",
    "#### Michelle Appel (10170359)\n",
    "#### Nils Hulzeboch (10749411)\n",
    "#### Yves van Montfort (XXX)\n",
    "\n",
    "#### 11-01-2018"
   ]
  },
  {
   "cell_type": "markdown",
   "metadata": {},
   "source": [
    "### Theoretical Part [15 pts]"
   ]
  },
  {
   "cell_type": "markdown",
   "metadata": {},
   "source": [
    "1. Hypothesis Testing – The problem of multiple comparisons [ 5 points ]\n",
    "Experimentation in AI often happens like this:\n",
    "A. Modify/Build an algorithm\n",
    "B. Compare the algorithm to a baseline by running a hypothesis test.\n",
    "C. If not significant, go back to step A\n",
    "D. If significant, start writing a paper.\n",
    "Compute the probabilities below  How many hypothesis tests, m, does it take to get to  (with Type I error for each test = α):\n",
    "(a) P(mt  h  experiment gives significant result | m experiments lacking power to reject H 0)  ? (b) P(at least one significant result | m experiments lacking power to reject H 0)  ?"
   ]
  },
  {
   "cell_type": "markdown",
   "metadata": {},
   "source": []
  },
  {
   "cell_type": "markdown",
   "metadata": {},
   "source": [
    "2. Bias and unfairness in Interleaving experiments [ 10 points ]\n",
    "Balance interleaving has been shown to be biased in a number of corner cases. An example was given during the lecture with two ranked lists of length 3 being interleaved, and a randomly clicking population of users that resulted in algorithm A winning 2⁄3 of the time, even though in theory the percentage of wins should be 50% for both algorithms. Can you come up with a\n",
    "situation of two ranked lists of length 3 and a distribution of clicks over them for which Team-draft interleaving is unfair to the better algorithm?"
   ]
  },
  {
   "cell_type": "markdown",
   "metadata": {},
   "source": []
  },
  {
   "cell_type": "markdown",
   "metadata": {},
   "source": [
    "### Experimental Part [85 pts]"
   ]
  },
  {
   "cell_type": "code",
   "execution_count": 2,
   "metadata": {
    "collapsed": true
   },
   "outputs": [],
   "source": [
    "import itertools\n",
    "import numpy as np"
   ]
  },
  {
   "cell_type": "code",
   "execution_count": 8,
   "metadata": {},
   "outputs": [
    {
     "name": "stdout",
     "output_type": "stream",
     "text": [
      "[[('N', 'N', 'N', 'N', 'N')], [('N', 'N', 'R', 'N', 'N'), ('N', 'N', 'N', 'R', 'N'), ('R', 'N', 'N', 'N', 'N'), ('N', 'N', 'N', 'N', 'R'), ('N', 'R', 'N', 'N', 'N')], [('HR', 'N', 'N', 'N', 'N'), ('N', 'N', 'HR', 'N', 'N'), ('N', 'N', 'N', 'HR', 'N'), ('N', 'HR', 'N', 'N', 'N'), ('N', 'N', 'N', 'N', 'HR')], [('N', 'N', 'N', 'R', 'R'), ('N', 'N', 'R', 'N', 'R'), ('N', 'R', 'N', 'R', 'N'), ('N', 'R', 'R', 'N', 'N'), ('R', 'N', 'N', 'R', 'N'), ('R', 'N', 'R', 'N', 'N'), ('N', 'R', 'N', 'N', 'R'), ('R', 'R', 'N', 'N', 'N'), ('N', 'N', 'R', 'R', 'N'), ('R', 'N', 'N', 'N', 'R')], [('HR', 'N', 'N', 'R', 'N'), ('HR', 'R', 'N', 'N', 'N'), ('N', 'N', 'HR', 'N', 'R'), ('N', 'N', 'N', 'HR', 'R'), ('R', 'N', 'N', 'N', 'HR'), ('R', 'HR', 'N', 'N', 'N'), ('N', 'N', 'R', 'HR', 'N'), ('N', 'N', 'HR', 'R', 'N'), ('N', 'HR', 'N', 'N', 'R'), ('N', 'HR', 'R', 'N', 'N'), ('R', 'N', 'N', 'HR', 'N'), ('R', 'N', 'HR', 'N', 'N'), ('N', 'N', 'N', 'R', 'HR'), ('N', 'N', 'R', 'N', 'HR'), ('N', 'R', 'N', 'N', 'HR'), ('HR', 'N', 'N', 'N', 'R'), ('N', 'R', 'HR', 'N', 'N'), ('HR', 'N', 'R', 'N', 'N'), ('N', 'R', 'N', 'HR', 'N'), ('N', 'HR', 'N', 'R', 'N')], [('N', 'HR', 'N', 'N', 'HR'), ('HR', 'N', 'N', 'HR', 'N'), ('HR', 'N', 'HR', 'N', 'N'), ('HR', 'N', 'N', 'N', 'HR'), ('HR', 'HR', 'N', 'N', 'N'), ('N', 'N', 'N', 'HR', 'HR'), ('N', 'HR', 'HR', 'N', 'N'), ('N', 'N', 'HR', 'HR', 'N'), ('N', 'HR', 'N', 'HR', 'N'), ('N', 'N', 'HR', 'N', 'HR')], [('R', 'R', 'N', 'N', 'R'), ('R', 'N', 'N', 'R', 'R'), ('R', 'N', 'R', 'N', 'R'), ('N', 'R', 'N', 'R', 'R'), ('N', 'R', 'R', 'N', 'R'), ('R', 'N', 'R', 'R', 'N'), ('N', 'N', 'R', 'R', 'R'), ('R', 'R', 'N', 'R', 'N'), ('R', 'R', 'R', 'N', 'N'), ('N', 'R', 'R', 'R', 'N')], [('N', 'N', 'R', 'HR', 'R'), ('N', 'N', 'HR', 'R', 'R'), ('HR', 'R', 'N', 'N', 'R'), ('HR', 'R', 'N', 'R', 'N'), ('HR', 'R', 'R', 'N', 'N'), ('N', 'R', 'N', 'R', 'HR'), ('N', 'R', 'R', 'N', 'HR'), ('R', 'HR', 'N', 'N', 'R'), ('HR', 'N', 'N', 'R', 'R'), ('HR', 'N', 'R', 'N', 'R'), ('N', 'HR', 'R', 'R', 'N'), ('N', 'R', 'N', 'HR', 'R'), ('N', 'R', 'HR', 'N', 'R'), ('N', 'N', 'R', 'R', 'HR'), ('R', 'R', 'N', 'HR', 'N'), ('R', 'R', 'HR', 'N', 'N'), ('N', 'R', 'HR', 'R', 'N'), ('N', 'R', 'R', 'HR', 'N'), ('R', 'N', 'HR', 'R', 'N'), ('R', 'N', 'R', 'HR', 'N'), ('R', 'HR', 'N', 'R', 'N'), ('R', 'HR', 'R', 'N', 'N'), ('HR', 'N', 'R', 'R', 'N'), ('N', 'HR', 'N', 'R', 'R'), ('N', 'HR', 'R', 'N', 'R'), ('R', 'R', 'N', 'N', 'HR'), ('R', 'N', 'HR', 'N', 'R'), ('R', 'N', 'N', 'HR', 'R'), ('R', 'N', 'N', 'R', 'HR'), ('R', 'N', 'R', 'N', 'HR')], [('N', 'R', 'N', 'HR', 'HR'), ('N', 'R', 'HR', 'N', 'HR'), ('HR', 'HR', 'N', 'R', 'N'), ('HR', 'HR', 'R', 'N', 'N'), ('R', 'N', 'N', 'HR', 'HR'), ('R', 'N', 'HR', 'N', 'HR'), ('N', 'HR', 'N', 'HR', 'R'), ('N', 'N', 'R', 'HR', 'HR'), ('N', 'N', 'HR', 'R', 'HR'), ('HR', 'R', 'N', 'N', 'HR'), ('R', 'HR', 'N', 'N', 'HR'), ('HR', 'N', 'N', 'R', 'HR'), ('HR', 'N', 'R', 'N', 'HR'), ('N', 'HR', 'R', 'HR', 'N'), ('N', 'N', 'HR', 'HR', 'R'), ('HR', 'R', 'N', 'HR', 'N'), ('HR', 'R', 'HR', 'N', 'N'), ('R', 'N', 'HR', 'HR', 'N'), ('HR', 'HR', 'N', 'N', 'R'), ('HR', 'N', 'N', 'HR', 'R'), ('HR', 'N', 'HR', 'N', 'R'), ('N', 'HR', 'N', 'R', 'HR'), ('N', 'HR', 'R', 'N', 'HR'), ('R', 'HR', 'N', 'HR', 'N'), ('R', 'HR', 'HR', 'N', 'N'), ('N', 'HR', 'HR', 'N', 'R'), ('HR', 'N', 'R', 'HR', 'N'), ('HR', 'N', 'HR', 'R', 'N'), ('N', 'HR', 'HR', 'R', 'N'), ('N', 'R', 'HR', 'HR', 'N')], [('HR', 'N', 'HR', 'HR', 'N'), ('HR', 'HR', 'N', 'N', 'HR'), ('N', 'HR', 'HR', 'HR', 'N'), ('HR', 'N', 'N', 'HR', 'HR'), ('HR', 'N', 'HR', 'N', 'HR'), ('N', 'N', 'HR', 'HR', 'HR'), ('N', 'HR', 'N', 'HR', 'HR'), ('N', 'HR', 'HR', 'N', 'HR'), ('HR', 'HR', 'HR', 'N', 'N'), ('HR', 'HR', 'N', 'HR', 'N')], [('N', 'R', 'R', 'R', 'R'), ('R', 'R', 'R', 'R', 'N'), ('R', 'R', 'R', 'N', 'R'), ('R', 'R', 'N', 'R', 'R'), ('R', 'N', 'R', 'R', 'R')], [('R', 'R', 'N', 'HR', 'R'), ('R', 'R', 'HR', 'N', 'R'), ('HR', 'R', 'N', 'R', 'R'), ('R', 'R', 'R', 'HR', 'N'), ('R', 'N', 'HR', 'R', 'R'), ('R', 'N', 'R', 'R', 'HR'), ('R', 'R', 'HR', 'R', 'N'), ('R', 'HR', 'R', 'R', 'N'), ('HR', 'R', 'R', 'N', 'R'), ('N', 'HR', 'R', 'R', 'R'), ('HR', 'R', 'R', 'R', 'N'), ('R', 'N', 'R', 'HR', 'R'), ('R', 'HR', 'N', 'R', 'R'), ('R', 'HR', 'R', 'N', 'R'), ('N', 'R', 'R', 'R', 'HR'), ('HR', 'N', 'R', 'R', 'R'), ('N', 'R', 'R', 'HR', 'R'), ('N', 'R', 'HR', 'R', 'R'), ('R', 'R', 'R', 'N', 'HR'), ('R', 'R', 'N', 'R', 'HR')], [('R', 'HR', 'R', 'HR', 'N'), ('R', 'HR', 'HR', 'R', 'N'), ('N', 'R', 'HR', 'HR', 'R'), ('HR', 'HR', 'N', 'R', 'R'), ('HR', 'HR', 'R', 'N', 'R'), ('N', 'R', 'R', 'HR', 'HR'), ('N', 'R', 'HR', 'R', 'HR'), ('HR', 'HR', 'R', 'R', 'N'), ('R', 'R', 'HR', 'HR', 'N'), ('HR', 'R', 'R', 'HR', 'N'), ('HR', 'R', 'HR', 'R', 'N'), ('R', 'R', 'N', 'HR', 'HR'), ('N', 'HR', 'R', 'R', 'HR'), ('R', 'HR', 'N', 'R', 'HR'), ('R', 'HR', 'R', 'N', 'HR'), ('HR', 'N', 'R', 'R', 'HR'), ('N', 'HR', 'R', 'HR', 'R'), ('N', 'HR', 'HR', 'R', 'R'), ('HR', 'R', 'N', 'HR', 'R'), ('HR', 'R', 'HR', 'N', 'R'), ('R', 'N', 'R', 'HR', 'HR'), ('R', 'N', 'HR', 'R', 'HR'), ('HR', 'R', 'N', 'R', 'HR'), ('HR', 'R', 'R', 'N', 'HR'), ('R', 'HR', 'N', 'HR', 'R'), ('R', 'HR', 'HR', 'N', 'R'), ('HR', 'N', 'R', 'HR', 'R'), ('HR', 'N', 'HR', 'R', 'R'), ('R', 'R', 'HR', 'N', 'HR'), ('R', 'N', 'HR', 'HR', 'R')], [('N', 'HR', 'R', 'HR', 'HR'), ('HR', 'N', 'R', 'HR', 'HR'), ('R', 'N', 'HR', 'HR', 'HR'), ('R', 'HR', 'HR', 'HR', 'N'), ('N', 'HR', 'HR', 'HR', 'R'), ('HR', 'HR', 'R', 'N', 'HR'), ('HR', 'N', 'HR', 'R', 'HR'), ('HR', 'HR', 'N', 'HR', 'R'), ('HR', 'HR', 'HR', 'N', 'R'), ('HR', 'N', 'HR', 'HR', 'R'), ('HR', 'HR', 'R', 'HR', 'N'), ('N', 'R', 'HR', 'HR', 'HR'), ('HR', 'R', 'N', 'HR', 'HR'), ('N', 'HR', 'HR', 'R', 'HR'), ('HR', 'R', 'HR', 'N', 'HR'), ('R', 'HR', 'HR', 'N', 'HR'), ('HR', 'HR', 'HR', 'R', 'N'), ('HR', 'HR', 'N', 'R', 'HR'), ('HR', 'R', 'HR', 'HR', 'N'), ('R', 'HR', 'N', 'HR', 'HR')], [('N', 'HR', 'HR', 'HR', 'HR'), ('HR', 'HR', 'N', 'HR', 'HR'), ('HR', 'HR', 'HR', 'N', 'HR'), ('HR', 'N', 'HR', 'HR', 'HR'), ('HR', 'HR', 'HR', 'HR', 'N')], [('R', 'R', 'R', 'R', 'R')], [('R', 'R', 'R', 'HR', 'R'), ('R', 'R', 'HR', 'R', 'R'), ('R', 'HR', 'R', 'R', 'R'), ('HR', 'R', 'R', 'R', 'R'), ('R', 'R', 'R', 'R', 'HR')], [('R', 'R', 'HR', 'HR', 'R'), ('HR', 'R', 'R', 'HR', 'R'), ('HR', 'R', 'HR', 'R', 'R'), ('R', 'HR', 'R', 'R', 'HR'), ('HR', 'HR', 'R', 'R', 'R'), ('R', 'R', 'HR', 'R', 'HR'), ('R', 'R', 'R', 'HR', 'HR'), ('R', 'HR', 'R', 'HR', 'R'), ('R', 'HR', 'HR', 'R', 'R'), ('HR', 'R', 'R', 'R', 'HR')], [('HR', 'R', 'R', 'HR', 'HR'), ('HR', 'R', 'HR', 'R', 'HR'), ('HR', 'HR', 'R', 'HR', 'R'), ('HR', 'HR', 'HR', 'R', 'R'), ('R', 'HR', 'HR', 'HR', 'R'), ('HR', 'HR', 'R', 'R', 'HR'), ('R', 'HR', 'R', 'HR', 'HR'), ('R', 'HR', 'HR', 'R', 'HR'), ('HR', 'R', 'HR', 'HR', 'R'), ('R', 'R', 'HR', 'HR', 'HR')], [('HR', 'HR', 'R', 'HR', 'HR'), ('HR', 'HR', 'HR', 'R', 'HR'), ('HR', 'HR', 'HR', 'HR', 'R'), ('R', 'HR', 'HR', 'HR', 'HR'), ('HR', 'R', 'HR', 'HR', 'HR')], [('HR', 'HR', 'HR', 'HR', 'HR')]]\n"
     ]
    }
   ],
   "source": [
    "relevances = ['N', 'R', 'HR'] # The three relevance classes\n",
    "\n",
    "combinations = list(itertools.combinations_with_replacement(relevances, 5)) # All combinations o\n",
    "\n",
    "permutations = []\n",
    "for combination in combinations:\n",
    "    permutations.append(list(set(itertools.permutations(combination))))\n",
    "    \n",
    "print(permutations)"
   ]
  },
  {
   "cell_type": "code",
   "execution_count": null,
   "metadata": {
    "collapsed": true
   },
   "outputs": [],
   "source": []
  }
 ],
 "metadata": {
  "kernelspec": {
   "display_name": "Python 3",
   "language": "python",
   "name": "python3"
  }
 },
 "nbformat": 4,
 "nbformat_minor": 2
}
