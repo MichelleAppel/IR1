{
 "cells": [
  {
   "cell_type": "markdown",
   "metadata": {},
   "source": [
    "## Homework 1\n",
    "\n",
    "#### Michelle Appel (10170359)\n",
    "#### Nils Hulzeboch (10749411)\n",
    "\n",
    "#### 17-01-2018"
   ]
  },
  {
   "cell_type": "markdown",
   "metadata": {},
   "source": [
    "### Theoretical Part [15 pts]"
   ]
  },
  {
   "cell_type": "markdown",
   "metadata": {},
   "source": [
    "1. Hypothesis Testing – The problem of multiple comparisons [ 5 points ]\n",
    "Experimentation in AI often happens like this:\n",
    "A. Modify/Build an algorithm\n",
    "B. Compare the algorithm to a baseline by running a hypothesis test.\n",
    "C. If not significant, go back to step A\n",
    "D. If significant, start writing a paper.\n",
    "Compute the probabilities below  How many hypothesis tests, m, does it take to get to  (with Type I error for each test = α):\n",
    "(a) P(mt  h  experiment gives significant result | m experiments lacking power to reject H 0)  ? (b) P(at least one significant result | m experiments lacking power to reject H 0)  ?"
   ]
  },
  {
   "cell_type": "markdown",
   "metadata": {},
   "source": [
    "(a) P($m^{th}$ experiment gives significant result | m experiments lacking power to reject $H_0$) = $1 - (1 - \\alpha)^m$ (= $m \\alpha$ when $\\alpha$ is small)\n",
    "\n",
    "Where m is the amount of experiments and $\\alpha$ is the Type I error."
   ]
  },
  {
   "cell_type": "markdown",
   "metadata": {},
   "source": [
    "(b) P(at least one significant result | m experiments lacking power to reject $H_0$) = $\\alpha$"
   ]
  },
  {
   "cell_type": "markdown",
   "metadata": {},
   "source": [
    "2. Bias and unfairness in Interleaving experiments [ 10 points ]\n",
    "Balance interleaving has been shown to be biased in a number of corner cases. An example was given during the lecture with two ranked lists of length 3 being interleaved, and a randomly clicking population of users that resulted in algorithm A winning 2⁄3 of the time, even though in theory the percentage of wins should be 50% for both algorithms. Can you come up with a\n",
    "situation of two ranked lists of length 3 and a distribution of clicks over them for which Team-draft interleaving is unfair to the better algorithm?"
   ]
  },
  {
   "cell_type": "markdown",
   "metadata": {},
   "source": [
    "# TODO!!!"
   ]
  },
  {
   "cell_type": "markdown",
   "metadata": {},
   "source": [
    "### Experimental Part [85 pts]"
   ]
  },
  {
   "cell_type": "code",
   "execution_count": 1,
   "metadata": {
    "collapsed": true
   },
   "outputs": [],
   "source": [
    "import itertools\n",
    "import numpy as np\n",
    "import random\n",
    "import copy\n",
    "import pandas as pd\n",
    "from collections import defaultdict"
   ]
  },
  {
   "cell_type": "markdown",
   "metadata": {},
   "source": [
    "#### Step 1: Simulate Rankings of Relevance for E and P (5 points)\n",
    "\n",
    "In the first step you will generate pairs of rankings of relevance, for the production P and experimental E, respectively, for a hypothetical query q. Assume a 3-graded relevance, i.e. {N, R, HR}. Construct all possible P and E ranking pairs of length 5. This step should give you about."
   ]
  },
  {
   "cell_type": "code",
   "execution_count": 2,
   "metadata": {
    "collapsed": true
   },
   "outputs": [],
   "source": [
    "relevances = ('N', 'R', 'HR') # The three relevance classes\n",
    "\n",
    "# All combinations with length 5 of the relevance classes\n",
    "combinations = list(itertools.combinations_with_replacement(relevances, 5))\n",
    "\n",
    "# All permutations per combination\n",
    "permutations = ()\n",
    "for combination in combinations:\n",
    "    permutations += tuple(set(itertools.permutations(combination)))\n",
    "    \n",
    "# Ranking pairs of production P and experimental E\n",
    "ranking_pairs = ()\n",
    "for ranking_p in permutations:\n",
    "    for ranking_e in permutations:\n",
    "        if ranking_p != ranking_e: # If pairs are not the same\n",
    "            ranking_pairs += ((ranking_p, ranking_e),) # Extend list with ranking pair"
   ]
  },
  {
   "cell_type": "markdown",
   "metadata": {},
   "source": [
    "#### Step 2: Implement Evaluation Measures (10 points)\n",
    "    \n",
    "Implement 1 binary and 2 multi-graded evaluation measures out of the 7 measures mentioned above. \n",
    "(Note 2: Some of the aforementioned measures require the total number of relevant and highly relevant documents in the entire collection – pay extra attention on how to find this)\n",
    "\n",
    "##### Binary evaluation measures:\n",
    "1. Precision at rank k,\n",
    "2. Recall at rank k,\n",
    "3. Average Precision,"
   ]
  },
  {
   "cell_type": "code",
   "execution_count": 3,
   "metadata": {
    "collapsed": true
   },
   "outputs": [],
   "source": [
    "# Precision = TP / (TP + FP)\n",
    "def precision(ranking, rank=None):\n",
    "    tp = ranking[:rank].count('R') + ranking[:rank].count('HR')\n",
    "    fp = ranking[:rank].count('N')\n",
    "    return tp / (tp + fp)\n",
    "\n",
    "\n",
    "# Recall = TP / (TP + FN)\n",
    "def recall(ranking, no_relevant_documents, rank=None):\n",
    "    if rank is None:\n",
    "        rank = len(ranking)\n",
    "    \n",
    "    tp = ranking[:rank].count('R') + ranking[:rank].count('HR')\n",
    "    fn = no_relevant_documents - tp\n",
    "    return tp / (tp + fn)\n",
    "    \n",
    "def recalls(ranking_pair, rank=None):\n",
    "    no_relevant_documents = 0\n",
    "    for ranking in ranking_pair:\n",
    "        no_relevant_documents += ranking.count('R') + ranking.count('HR')\n",
    "    \n",
    "    recalls = ()    \n",
    "    for ranking in ranking_pair:\n",
    "        recalls += (recall(ranking=ranking, no_relevant_documents=no_relevant_documents, rank=rank),)\n",
    "    return recalls\n",
    "\n",
    "\n",
    "# Average precision\n",
    "def average_precision(ranking):\n",
    "    precisions = ()\n",
    "    for rank in range(1, len(ranking)+1):\n",
    "        if ranking[rank-1] == 'R' or ranking[rank-1] == 'HR':\n",
    "            precisions += (precision(ranking, rank=rank),)\n",
    "\n",
    "    if len(precisions) > 0:\n",
    "        return np.mean(precisions)\n",
    "    else:\n",
    "        return 0"
   ]
  },
  {
   "cell_type": "markdown",
   "metadata": {},
   "source": [
    "##### Multi-graded evaluation measures:\n",
    "\n",
    "1. Normalized Discounted Cumulative Gain at rank k (nDCG@k),\n",
    "2. Expected Reciprocal Rank (ERR)."
   ]
  },
  {
   "cell_type": "code",
   "execution_count": 4,
   "metadata": {
    "collapsed": true
   },
   "outputs": [],
   "source": [
    "# Normalized Discounted Cumulative Gain at rank k (nDCG@k)\n",
    "def nDCGk(ranking, rank=None):\n",
    "    if rank is None:\n",
    "        rank = len(ranking)\n",
    "    \n",
    "    gains = ()\n",
    "    for r, rel_grade in enumerate(ranking[:rank]):\n",
    "        if rel_grade == 'N':\n",
    "            rel_r = 0\n",
    "        elif rel_grade == 'R':\n",
    "            rel_r = 0.5\n",
    "        elif rel_grade == 'HR':\n",
    "            rel_r = 1\n",
    "        \n",
    "        gains += ((2**rel_r - 1)/(np.log2(2+r)),)\n",
    "        \n",
    "    return np.sum(gains)\n",
    "\n",
    "\n",
    "# Mapping from relevance grades to probability of relevance\n",
    "def R(rel_grade, g_max):\n",
    "    if rel_grade == 'N':\n",
    "        g = 0\n",
    "    elif rel_grade == 'R':\n",
    "        g = 0.5\n",
    "    elif rel_grade == 'HR':\n",
    "        g = 1\n",
    "\n",
    "    return (2**g - 1)/(2**g_max)\n",
    "\n",
    "# Expected Reciprocal Rank (ERR)\n",
    "def ERR(ranking, rank=None):\n",
    "    if rank is None:\n",
    "        rank = len(ranking)\n",
    "    \n",
    "    g_max = 1\n",
    "    \n",
    "    return np.sum([([np.prod(((1/(r+1))*(1 - R(i_rel_grad, g_max))*R(r_rel_grad, g_max),)) \n",
    "                for i_rel_grad in ranking[:rank]],) \n",
    "                for r, r_rel_grad in enumerate(ranking[:rank])])"
   ]
  },
  {
   "cell_type": "markdown",
   "metadata": {},
   "source": [
    "#### Step 3: Calculate the 𝛥measure (0 points)\n",
    "    \n",
    "For the three measures and all P and E ranking pairs constructed above calculate the difference: 𝛥measure = measureE-measureP. Consider only those pairs for which E outperforms P."
   ]
  },
  {
   "cell_type": "code",
   "execution_count": 5,
   "metadata": {
    "collapsed": true
   },
   "outputs": [],
   "source": [
    "def delta_measure(ranking_pairs, evaluation_measure):\n",
    "    delta_measures = ()\n",
    "    \n",
    "    for ranking_pair in ranking_pairs:\n",
    "        delta_measure = evaluation_measure(ranking_pair[1]) - evaluation_measure(ranking_pair[0])\n",
    "        if delta_measure > 0:\n",
    "            delta_measures += (delta_measure,)\n",
    "            \n",
    "    return np.mean(delta_measures)"
   ]
  },
  {
   "cell_type": "markdown",
   "metadata": {},
   "source": [
    "[Based on Lecture 2]\n",
    "#### Step 4: Implement Interleaving (15 points)\n",
    "\n",
    "Implement 2 interleaving algorithms: (1) Team-Draft Interleaving OR Balanced Interleaving, AND (2), Probabilistic Interleaving. The interleaving algorithms should (a) given two rankings of relevance interleave them into a single ranking, and (b) given the users clicks on the interleaved ranking assign credit to the algorithms that produced the rankings.\n",
    "(Note 4: Note here that as opposed to a normal interleaving experiment where rankings consists of urls or docids, in our case the rankings consist of relevance labels. Hence in this case (a) you will assume that E and P return different documents, (b) the interleaved ranking will also be a ranking of labels.)"
   ]
  },
  {
   "cell_type": "code",
   "execution_count": 6,
   "metadata": {
    "collapsed": true
   },
   "outputs": [],
   "source": [
    "# Balanced Interleaving\n",
    "def balanced_interleaving(ranking_pair, rank=None):\n",
    "    if rank is None:\n",
    "        rank = len(ranking_pair[0]) + len(ranking_pair[1])\n",
    "    \n",
    "    p_first = random.randint(0,1)\n",
    "    \n",
    "    interleaved_ranking = ()\n",
    "    picking_order = ()\n",
    "    for p, e in zip(*ranking_pair):\n",
    "        if p_first:\n",
    "            interleaved_ranking += (p, e)\n",
    "            picking_order += ('P', 'E')\n",
    "        else:\n",
    "            interleaved_ranking += (e, p)\n",
    "            picking_order += ('E', 'P')\n",
    "            \n",
    "    return interleaved_ranking[:rank], picking_order\n",
    "       \n",
    "# Team-Draft Interleaving\n",
    "def team_draft_interleaving(ranking_pair, rank=None):\n",
    "    ranking_p = list(ranking_pair[0])\n",
    "    ranking_e = list(ranking_pair[1])\n",
    "                             \n",
    "    if rank is None:\n",
    "        rank = len(ranking_p) + len(ranking_e)\n",
    "        \n",
    "    team_p = ()\n",
    "    team_e = ()\n",
    "        \n",
    "    interleaved_ranking = ()\n",
    "    picking_order = ()\n",
    "    for i in range(rank):\n",
    "        if (len(team_p) < len(team_e)) or (len(team_p) == len(team_e) and random.randint(0,1)):\n",
    "            rel_grade = ranking_p.pop(0)\n",
    "            interleaved_ranking += (rel_grade,)\n",
    "            team_p += (rel_grade,)\n",
    "            picking_order += ('P',)\n",
    "        else:\n",
    "            rel_grade = ranking_e.pop(0)\n",
    "            interleaved_ranking += (rel_grade,)\n",
    "            team_e += (rel_grade,)\n",
    "            picking_order += ('E',)\n",
    "    \n",
    "    return interleaved_ranking[:rank], picking_order"
   ]
  },
  {
   "cell_type": "code",
   "execution_count": 7,
   "metadata": {},
   "outputs": [
    {
     "name": "stdout",
     "output_type": "stream",
     "text": [
      "Example: (('HR', 'R', 'N', 'N', 'R'), ('N', 'N', 'R', 'N', 'R')) \n",
      "\n",
      "Balanced interleaving:\n",
      "('HR', 'N', 'R', 'N', 'N', 'R', 'N', 'N', 'R', 'R')\n",
      "('P', 'E', 'P', 'E', 'P', 'E', 'P', 'E', 'P', 'E') (order of picking)\n",
      "\n",
      "Team draft interleaving:\n",
      "('N', 'HR', 'R', 'N', 'N', 'R', 'N', 'N', 'R', 'R')\n",
      "('E', 'P', 'P', 'E', 'P', 'E', 'P', 'E', 'E', 'P') (order of picking)\n",
      "\n"
     ]
    }
   ],
   "source": [
    "# test interleaving methods with an example\n",
    "test_pair = (('HR', 'R', 'N', 'N', 'R'), ('N', 'N', 'R', 'N', 'R'))\n",
    "print('Example:', test_pair, '\\n')\n",
    "\n",
    "bal_inter, bal_order = balanced_interleaving(test_pair)\n",
    "print('Balanced interleaving:')\n",
    "print(bal_inter)\n",
    "print(bal_order, '(order of picking)\\n')\n",
    "      \n",
    "team_inter, team_order = team_draft_interleaving(test_pair)\n",
    "print('Team draft interleaving:')\n",
    "print(team_inter)\n",
    "print(team_order, '(order of picking)\\n')"
   ]
  },
  {
   "cell_type": "markdown",
   "metadata": {},
   "source": [
    "#### Step 5: Implement User Clicks Simulation (15 points)\n",
    "    \n",
    "Having interleaved all the ranking pairs an online experiment could be ran. However, given that we do not have any users (and the entire homework is a big simulation) we will simulate user clicks.\n",
    "We have considered a number of click models including:\n",
    "1. Random Click Model (RCM)\n",
    "2. Position-Based Model (PBM)\n",
    "3. Simple Dependent Click Model (SDCM)\n",
    "4. Simple Dynamic Bayesian Network (SDBN)\n",
    "\n",
    "Consider two different click models, (a) the Random Click Model (RCM), and (b) one out of the remaining 3 aforementioned models. The parameters of some of these models can be estimated using the Maximum Likelihood Estimation (MLE) method, while others require using the Expectation-Maximization (EM) method. Implement the two models so that (a) there is a method that learns the parameters of the model given a set of training data, (b) there is a method that predicts the click probability given a ranked list of relevance labels, (c) there is a method that decides - stochastically - whether a document is clicked based on these probabilities.\n",
    "\n",
    "Having implemented the two click models, estimate the model parameters using the Yandex Click Log [https://drive.google.com/file/d/1tqMptjHvAisN1CJ35oCEZ9_lb0cEJwV0/view].\n",
    "\n",
    "(Note 6: Do not learn the attractiveness parameter 𝑎uq)"
   ]
  },
  {
   "cell_type": "code",
   "execution_count": 8,
   "metadata": {},
   "outputs": [
    {
     "name": "stdout",
     "output_type": "stream",
     "text": [
      "[5, 6, 9]\n"
     ]
    }
   ],
   "source": [
    "'''\n",
    "Random Click Model (RCM)\n",
    "Any document can be clicked with the same (constant) probability p\n",
    "p = number of clicks / number of show documents,\n",
    "and will be learned using the Yandex Click Log\n",
    "'''\n",
    "def random_click_model(documents, p):\n",
    "    clicks = []\n",
    "    for i in range(len(documents)):\n",
    "        if random.uniform(0, 1) <= p:\n",
    "            clicks.append(i)\n",
    "    return clicks # return list of click indexes\n",
    "\n",
    "test_documents = ('HR', 'N', 'R', 'N', 'N', 'R', 'N', 'N', 'R', 'R')\n",
    "print(random_click_model(test_documents, 0.3))"
   ]
  },
  {
   "cell_type": "code",
   "execution_count": 9,
   "metadata": {},
   "outputs": [
    {
     "name": "stdout",
     "output_type": "stream",
     "text": [
      "[0, 2, 7]\n"
     ]
    }
   ],
   "source": [
    "'''\n",
    "Position-Based Model (PBM)\n",
    "Any document can be clicked with a probability that is calculated\n",
    "by multiplying:\n",
    "- Examination (E_r_u = 1):  the probability of examining a document \n",
    "- Attractiveness (A_u = 1): the probability of an attractive document\n",
    "These parameters will be learned using the Yandex Click Log\n",
    "'''\n",
    "def position_based_model(documents, examinations, attracts):\n",
    "    clicks = []\n",
    "    for i in range(len(documents)):\n",
    "        p = examinations[i] * attracts[i]\n",
    "        if random.uniform(0, 1) <= p:\n",
    "            clicks.append(i)\n",
    "    return clicks # return list of click indexes\n",
    "\n",
    "test_documents = ('HR', 'N', 'R', 'N', 'N', 'R', 'N', 'N', 'R', 'R')\n",
    "test_examinations = [1, 0.8, 0.6, 0.2, 0.1, 0.1, 0.1, 0.1, 0.1, 0.1]\n",
    "test_attracts =     [1, 0.9, 0.8, 0.7, 0.6, 0.5, 0.5, 0.5, 0.5, 0.5]\n",
    "print(position_based_model(test_documents, test_examinations, test_attracts))"
   ]
  },
  {
   "cell_type": "code",
   "execution_count": 10,
   "metadata": {
    "collapsed": true
   },
   "outputs": [],
   "source": [
    "class Session:\n",
    "    def __init__(self, documents, query_id):\n",
    "        self.documents = documents\n",
    "        self.clicks = []\n",
    "        self.clicks_urls = []\n",
    "        self.query_id = query_id\n",
    "        \n",
    "    def __repr__(self):\n",
    "        return 'Indexes of clicked documents: ' + str(self.clicks)\n",
    "    \n",
    "    def add_click(self, click):\n",
    "        try:\n",
    "            self.clicks.append(self.documents.index(click))\n",
    "            self.clicks_urls.append(click)\n",
    "        except ValueError:\n",
    "            pass"
   ]
  },
  {
   "cell_type": "code",
   "execution_count": 29,
   "metadata": {},
   "outputs": [
    {
     "name": "stdout",
     "output_type": "stream",
     "text": [
      "[Indexes of clicked documents: [], Indexes of clicked documents: [], Indexes of clicked documents: [], Indexes of clicked documents: [], Indexes of clicked documents: [0, 1, 2], Indexes of clicked documents: [5, 7], Indexes of clicked documents: [3, 8, 9, 7], Indexes of clicked documents: [8], Indexes of clicked documents: [1], Indexes of clicked documents: [0]]\n",
      "Amount of sessions: 42651\n"
     ]
    }
   ],
   "source": [
    "# dataset:\n",
    "# QUERY: SessionID TimePassed TypeOfAction QueryID RegionID ListOfURLs\n",
    "# CLICK: SessionID TimePassed TypeOfAction URLID\n",
    "\n",
    "# load dataset into list\n",
    "all_actions = []\n",
    "\n",
    "with open('YandexRelPredChallenge.txt', 'r') as f:\n",
    "    for line in f:\n",
    "        all_actions.append(line.split(\"\\n\")[0].split('\\t'))\n",
    "\n",
    "all_sessions = []\n",
    "previous_session = 'init'\n",
    "for i in range(len(all_actions)):\n",
    "    if all_actions[i][2] == 'Q':\n",
    "        all_sessions.append(previous_session)\n",
    "        previous_session = Session(all_actions[i][5:],\n",
    "                                    all_actions[i][3])\n",
    "    else:\n",
    "        previous_session.add_click(all_actions[i][3])\n",
    "        \n",
    "all_sessions.pop(0) # delete first ('init') element     \n",
    "print(all_sessions[0:10])\n",
    "print(\"Amount of sessions:\", len(all_sessions))"
   ]
  },
  {
   "cell_type": "code",
   "execution_count": 30,
   "metadata": {},
   "outputs": [
    {
     "name": "stdout",
     "output_type": "stream",
     "text": [
      "Total amount of documents shown: 426510\n",
      "Total amount of clicks:          56638\n",
      "\n",
      "Click probability                0.133\n"
     ]
    }
   ],
   "source": [
    "# calculate click probability for Random Click Model\n",
    "\n",
    "# (constant) click probability = \n",
    "# total amount of documents shown in all sessions /\n",
    "# total amount of clicks in all sessions\n",
    "\n",
    "#TODO: fix this method with new class\n",
    "def calculate_click_prob(all_sessions, print_trace=False):\n",
    "    documents_shown = 0\n",
    "    clicks_amount = 0\n",
    "    for session in all_sessions:\n",
    "        documents_shown += len(session.documents)\n",
    "        clicks_amount += len(session.clicks)\n",
    "    click_probability = float(clicks_amount) / documents_shown\n",
    "    if print_trace:\n",
    "        print(\"Total amount of documents shown:\", documents_shown)\n",
    "        print(\"Total amount of clicks:         \", clicks_amount)\n",
    "        print()\n",
    "        print(\"Click probability               \", round(click_probability, 3))\n",
    "    return click_probability\n",
    "          \n",
    "click_probability = calculate_click_prob(all_sessions, True)"
   ]
  },
  {
   "cell_type": "code",
   "execution_count": 14,
   "metadata": {
    "collapsed": true
   },
   "outputs": [],
   "source": [
    "def document_query_pairs(all_sessions = all_sessions, init_alpha = 0):\n",
    "\n",
    "    document_query_pairs = defaultdict(lambda: defaultdict(lambda: {'alpha':init_alpha, 'clicks':[], 'ranks':[]}))\n",
    "\n",
    "    for session in all_sessions:\n",
    "        for document in session.documents:\n",
    "            document_query_pairs[session.query_id][document]['clicks'].append(1 if document in session.clicks_urls else 0)\n",
    "            document_query_pairs[session.query_id][document]['ranks'].append(session.documents.index(document))\n",
    "            \n",
    "    return document_query_pairs"
   ]
  },
  {
   "cell_type": "code",
   "execution_count": 27,
   "metadata": {
    "collapsed": true
   },
   "outputs": [],
   "source": [
    "def em_algorithm(all_sessions, iterations = 5, init_alpha = 0.5, init_gamma = 0.5):\n",
    "    \n",
    "    alphas = document_query_pairs(init_alpha = init_alpha)\n",
    "    \n",
    "    # initialize gammas (examination)\n",
    "    gammas = [init_gamma]*10\n",
    "\n",
    "    # loop i times over complete dataset\n",
    "    for i in range(iterations):\n",
    "        print('Iteration:', i)\n",
    "\n",
    "        # calculate all new alpha values\n",
    "        new_alphas = copy.deepcopy(alphas)\n",
    "\n",
    "        for query_id, doc_urls in alphas.items():\n",
    "            for doc_url, properties in doc_urls.items():\n",
    "                alpha = properties['alpha']\n",
    "                clicks = properties['clicks']\n",
    "                ranks = properties['ranks']\n",
    "\n",
    "                sum_over_sessions = 0\n",
    "                for i in range(len(clicks)):\n",
    "                    click_doc = clicks[i]\n",
    "                    rank = ranks[i]\n",
    "                    sum_over_sessions += (click_doc + (1 - click_doc) * \n",
    "                        (((1 - gammas[rank]) * alpha) / \n",
    "                        (1 - gammas[rank] * alpha)))\n",
    "                new_alpha = 1/len(clicks) * sum_over_sessions\n",
    "                new_alphas[query_id][doc_url]['alpha'] = new_alpha\n",
    "\n",
    "        # calculate all new gamma values\n",
    "        new_gammas = []\n",
    "        for i in range(len(gammas)):\n",
    "            sum_over_sessions = 0\n",
    "            for session in all_sessions:\n",
    "                documents = session.documents\n",
    "                clicks = session.clicks\n",
    "                query_id = session.query_id\n",
    "                doc_url = documents[i]\n",
    "                alpha = alphas[query_id][doc_url]['alpha']\n",
    "\n",
    "                if i in clicks:\n",
    "                    click_doc = 1\n",
    "                else:\n",
    "                    click_doc = 0\n",
    "\n",
    "                sum_over_sessions += (click_doc + (1 - click_doc) * \n",
    "                    (((1 - alpha) * gammas[i]) / \n",
    "                    (1 - gammas[i] * alpha)))\n",
    "            new_gamma = 1/len(all_sessions) * sum_over_sessions\n",
    "            new_gammas.append(new_gamma)\n",
    "\n",
    "        # simultaneously update new alpha and gamma values\n",
    "        alphas = new_alphas\n",
    "        gammas = new_gammas\n",
    "\n",
    "        print(gammas)\n",
    "\n",
    "    return alphas, gammas"
   ]
  },
  {
   "cell_type": "code",
   "execution_count": 28,
   "metadata": {},
   "outputs": [
    {
     "name": "stdout",
     "output_type": "stream",
     "text": [
      "Iteration: 0\n",
      "[0.6333810070883646, 0.46339671598164794, 0.4262111869202792, 0.4037967066033588, 0.38790024462128236, 0.37808414027047577, 0.37291036552505835, 0.3686431736655452, 0.3653919798678201, 0.3671426226819811]\n",
      "Iteration: 1\n",
      "[0.7183753511679832, 0.4746766579296453, 0.41454748801348923, 0.3762723818268317, 0.3488915220060418, 0.33153420703171826, 0.32245502162059, 0.3145600030861146, 0.3088033137156628, 0.31199448958011455]\n",
      "Iteration: 2\n",
      "[0.785935705062901, 0.5052463276428982, 0.428348605473142, 0.37695889144851197, 0.3399315370022709, 0.3159049894884707, 0.30338386747478974, 0.29207421621690616, 0.2840749635152593, 0.28857864484522033]\n",
      "Iteration: 3\n",
      "[0.8363078579011035, 0.5433047217200275, 0.4540932689085746, 0.3914881463909439, 0.3460184795708778, 0.31584452729012813, 0.3001488612931469, 0.28552670846412415, 0.27542884565125897, 0.2811705588408849]\n",
      "Iteration: 4\n",
      "[0.8727705618922976, 0.5826944847839836, 0.4852464650969653, 0.41329626471236314, 0.3604830120017939, 0.32461827691477063, 0.30596833260732137, 0.28810419063319603, 0.2760161542129978, 0.2829396516003564]\n"
     ]
    }
   ],
   "source": [
    "alphas, gammas = em_algorithm(all_sessions, iterations=5)"
   ]
  },
  {
   "cell_type": "markdown",
   "metadata": {},
   "source": [
    "#### Step 6: Simulate Interleaving Experiment (10 points)\n",
    "\n",
    "Having implemented the click models, it is time to run the simulated experiment.\n",
    "For each of interleaved ranking run N simulations for each one of the click models implemented and measure the proportion p of wins for E.\n",
    "\n",
    "(Note 7: Some of the models above include an attractiveness parameter 𝑎uq. Use the relevance label to assign this parameter by setting 𝑎uq for a document u in the ranked list accordingly. (See Click Models for Web Search, http://clickmodels.weebly.com/uploads/5/2/2/5/52257029/mc2015-clickmodels.pdf)"
   ]
  },
  {
   "cell_type": "code",
   "execution_count": 24,
   "metadata": {},
   "outputs": [
    {
     "data": {
      "text/plain": [
       "(0.99999999916369642, 0.91453866239592851, 0.30186282617958216)"
      ]
     },
     "execution_count": 24,
     "metadata": {},
     "output_type": "execute_result"
    }
   ],
   "source": [
    "def grade_alphas(document_query_pairs, HR_cr = 0.95, R_cr = 0.5):\n",
    "\n",
    "    HR_alphas = []\n",
    "    R_alphas = []\n",
    "    N_alphas = []\n",
    "\n",
    "    for query_id in document_query_pairs:\n",
    "        for document_id in document_query_pairs[query_id]:\n",
    "            if np.mean(document_query_pairs[query_id][document_id]['clicks']) >= HR_cr:\n",
    "                HR_alphas.append(document_query_pairs[query_id][document_id]['alpha'])\n",
    "            elif np.mean(document_query_pairs[query_id][document_id]['clicks']) >= R_cr:\n",
    "                R_alphas.append(document_query_pairs[query_id][document_id]['alpha'])\n",
    "            else:\n",
    "                N_alphas.append(document_query_pairs[query_id][document_id]['alpha'])\n",
    "                \n",
    "    return np.mean(HR_alphas), np.mean(R_alphas), np.mean(N_alphas)\n",
    "\n",
    "grade_alphas(alphas)"
   ]
  },
  {
   "cell_type": "markdown",
   "metadata": {},
   "source": [
    "#### Step 7: Results and Analysis (30 points)\n",
    "\n",
    "Compare the results of the offline experiments (i.e. the values of the 𝛥measure) with the results of the online experiment (i.e. proportion of wins), analyze them and reach your conclusions regarding their agreement.\n",
    "Use easy to read and comprehend visuals to demonstrate the results;\n",
    "Analyze the results on the basis of\n",
    "the evaluation measure used,\n",
    "the interleaving method used,\n",
    "the click model used.\n",
    "Report and ground your conclusions.\n",
    "(Note 8: This is the place where you need to demonstrate your deeper understanding of what you have implemented so far; hence the large number of points assigned. Make sure you clearly do that so that the examiner of your work can grade it accordingly.)\n",
    "\n",
    "Yandex Click Log File:\n",
    "\n",
    "The dataset includes user sessions extracted from Yandex logs, with queries, URL rankings and clicks. To allay privacy concerns the user data is fully anonymized. So, only meaningless numeric IDs of queries, sessions, and URLs are released. The queries are grouped only by sessions and no user IDs are provided. The dataset consists of several parts. Logs represent a set of rows, where each row represents one of the possible user actions: query or click.\n",
    "In the case of a Query:\n",
    "\n",
    "SessionID TimePassed TypeOfAction QueryID RegionID ListOfURLs\n",
    "\n",
    "In the case of a Click:\n",
    "SessionID TimePassed TypeOfAction URLID\n",
    "\n",
    "SessionID - the unique identifier of the user session.\n",
    "TimePassed - the time elapsed since the beginning of the current session in standard time units.\n",
    "TypeOfAction - type of user action. This may be either a query (Q), or a click (C).\n",
    "QueryID - the unique identifier of the request.\n",
    "RegionID - the unique identifier of the country from which a given query. This identifier may take four values.\n",
    "URLID - the unique identifier of the document.\n",
    "ListOfURLs - the list of documents from left to right as they have been shown to users on the page extradition Yandex (top to bottom).\n"
   ]
  },
  {
   "cell_type": "code",
   "execution_count": 18,
   "metadata": {},
   "outputs": [
    {
     "data": {
      "text/plain": [
       "'\\nFrom Piazza:\\n\\nWe want wins per metric and then for the online part\\nwe want proportion of wins per click model and then do a 3 x 2\\n(3 offline deltas per metric, 2 online models) comparisons\\nfor the analysis part.\\n\\n\\n'"
      ]
     },
     "execution_count": 18,
     "metadata": {},
     "output_type": "execute_result"
    }
   ],
   "source": [
    "'''\n",
    "From Piazza:\n",
    "\n",
    "We want wins per metric and then for the online part\n",
    "we want proportion of wins per click model and then do a 3 x 2\n",
    "(3 offline deltas per metric, 2 online models) comparisons\n",
    "for the analysis part.\n",
    "\n",
    "\n",
    "'''"
   ]
  }
 ],
 "metadata": {
  "kernelspec": {
   "display_name": "Python 3",
   "language": "python",
   "name": "python3"
  },
  "language_info": {
   "codemirror_mode": {
    "name": "ipython",
    "version": 3
   },
   "file_extension": ".py",
   "mimetype": "text/x-python",
   "name": "python",
   "nbconvert_exporter": "python",
   "pygments_lexer": "ipython3",
   "version": "3.6.1"
  }
 },
 "nbformat": 4,
 "nbformat_minor": 2
}
